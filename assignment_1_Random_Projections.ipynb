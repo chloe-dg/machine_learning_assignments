{
  "cells": [
    {
      "cell_type": "markdown",
      "metadata": {
        "id": "view-in-github",
        "colab_type": "text"
      },
      "source": [
        "<a href=\"https://colab.research.google.com/github/chloe-dg/machine_learning_assignments/blob/main/assignment_1_Random_Projections.ipynb\" target=\"_parent\"><img src=\"https://colab.research.google.com/assets/colab-badge.svg\" alt=\"Open In Colab\"/></a>"
      ]
    },
    {
      "cell_type": "markdown",
      "source": [
        "# Random Projection Analysis\n",
        "Group 6, April 3, 2022\n",
        "\n",
        "Group Members:\n",
        "\n",
        "1. Chaitanya Madduri\n",
        "2. Eduwardo Garcia\n",
        "3. Thi Anh Ba Dang\n",
        "4. Vishnu Prabhakar\n",
        "5. Tumeng Zhang\n",
        "\n",
        "> <i> In the notebook we have applied the Random Projection Analysis on 2 different Datasets</i>\n",
        "\n",
        "\n",
        "Content:\n",
        "1. Loading the Packages \n",
        "2. Dataset 1 - KMNIST Dataset\n",
        "3. Building the Neural Network Model with KMNIST data\n",
        "4. Second Dataset : Fashion MNIST\n",
        "5. Building the Neural Network Model with Fashion MNIST data\n",
        "6. Observations and Summary \n",
        "\n",
        "Dependencies:\n",
        "\n",
        "For the KMNIST please use the .npz files placed in the folder. Alternatively please refer to https://github.com/rois-codh/kmnist"
      ],
      "metadata": {
        "id": "e6yytchQBskk"
      }
    },
    {
      "cell_type": "markdown",
      "source": [
        "## 1. Loading the Packages "
      ],
      "metadata": {
        "id": "KuHxi9_H8kIj"
      }
    },
    {
      "cell_type": "code",
      "execution_count": null,
      "metadata": {
        "id": "_ZogmQWvAYht"
      },
      "outputs": [],
      "source": [
        "from sklearn.random_projection import johnson_lindenstrauss_min_dim\n",
        "from sklearn.random_projection import SparseRandomProjection\n",
        "from sklearn.svm import LinearSVC\n",
        "from sklearn.model_selection import train_test_split\n",
        "from sklearn import metrics\n",
        "from sklearn import datasets\n",
        "%matplotlib inline\n",
        "\n",
        "import warnings\n",
        "warnings.filterwarnings('ignore') # works\n",
        "#warnings.filterwarnings(action='once') #does not work\n",
        "\n",
        "import matplotlib.pyplot as plt\n",
        "import numpy as np\n",
        "import pandas as pd"
      ]
    },
    {
      "cell_type": "markdown",
      "source": [
        "## 2. Dataset 1 - KMNIST Dataset\n",
        "- Kuzushiji-MNIST is a drop-in replacement for the MNIST dataset (28x28 grayscale, 70,000 images), provided in the original MNIST format as well as a NumPy format. Since MNIST restricts us to 10 classes, we chose one character to represent each of the 10 rows of Hiragana when creating Kuzushiji-MNIST."
      ],
      "metadata": {
        "id": "Lz7wy0R-7jQ-"
      }
    },
    {
      "cell_type": "markdown",
      "source": [
        "### 2.1. Loading the KMNIST Datasets "
      ],
      "metadata": {
        "id": "FZKkUVOX8vgu"
      }
    },
    {
      "cell_type": "code",
      "source": [
        "X_train = np.load('kmnist-train-imgs.npz')['arr_0']\n",
        "y_train = np.load('kmnist-train-labels.npz')['arr_0']\n",
        "X_test = np.load('kmnist-test-imgs.npz')['arr_0']\n",
        "y_test = np.load('kmnist-test-labels.npz')['arr_0']"
      ],
      "metadata": {
        "id": "ilB7Baq1GA_6"
      },
      "execution_count": null,
      "outputs": []
    },
    {
      "cell_type": "code",
      "source": [
        "# the data, shuffled and split between train and test sets\n",
        "\n",
        "# (X_train, y_train), (X_test, y_test) = datasets.cifar10.load_data()\n",
        "print(\"X_train original shape of images\", X_train.shape)\n",
        "print(\"y_train original shape of label vector\", y_train.shape)"
      ],
      "metadata": {
        "colab": {
          "base_uri": "https://localhost:8080/"
        },
        "id": "tk3A5tyzhmtk",
        "outputId": "8c78958e-c5a5-4003-878b-6847eb134dba"
      },
      "execution_count": null,
      "outputs": [
        {
          "output_type": "stream",
          "name": "stdout",
          "text": [
            "X_train original shape of images (60000, 28, 28)\n",
            "y_train original shape of label vector (60000,)\n"
          ]
        }
      ]
    },
    {
      "cell_type": "markdown",
      "source": [
        "### 2.2 Ploting the classes "
      ],
      "metadata": {
        "id": "o7fIhIDW8242"
      }
    },
    {
      "cell_type": "code",
      "source": [
        "# inspect your data\n",
        "from matplotlib.pyplot import figure\n",
        "plt.figure(figsize= (10,7))\n",
        "for ii in range(12):\n",
        "    plt.subplot(3,4,ii+1)\n",
        "    plt.subplots_adjust(hspace=0.8)\n",
        "    plt.imshow(X_train[ii], cmap='gray', interpolation='none')\n",
        "    plt.title(\"Class {}\".format(y_train[ii]))"
      ],
      "metadata": {
        "colab": {
          "base_uri": "https://localhost:8080/",
          "height": 444
        },
        "id": "Tv9Qen_TGfJd",
        "outputId": "502b1eee-3e1d-4667-ba7a-67e47150bd02"
      },
      "execution_count": null,
      "outputs": [
        {
          "output_type": "display_data",
          "data": {
            "text/plain": [
              "<Figure size 720x504 with 12 Axes>"
            ],
            "image/png": "[encoded data removed]"
          },
          "metadata": {
            "needs_background": "light"
          }
        }
      ]
    },
    {
      "cell_type": "code",
      "execution_count": null,
      "metadata": {
        "id": "0jDLvCcaAYhw"
      },
      "outputs": [],
      "source": [
        "# Flattening the 3D images to the 2D\n",
        "X_train = X_train.flatten().reshape(60000, 784)\n",
        "X_test = X_test.flatten().reshape(10000, 784)"
      ]
    },
    {
      "cell_type": "code",
      "source": [
        "X_train.shape[0] + X_test.shape[0]"
      ],
      "metadata": {
        "colab": {
          "base_uri": "https://localhost:8080/"
        },
        "id": "jBytzyESIHVS",
        "outputId": "4e7b2c5c-fe32-494a-80c3-3246529e899e"
      },
      "execution_count": null,
      "outputs": [
        {
          "output_type": "execute_result",
          "data": {
            "text/plain": [
              "70000"
            ]
          },
          "metadata": {},
          "execution_count": 15
        }
      ]
    },
    {
      "cell_type": "markdown",
      "source": [
        "####  Print what the theory says for k, given an eps(ilon)\n",
        "\n",
        "In this case we have 784 features  and we are selceting an epsilon of 0.15"
      ],
      "metadata": {
        "id": "F6domXktpPoI"
      }
    },
    {
      "cell_type": "code",
      "source": [
        "print (\"Professors Johnson and Lindenstrauss say: k >=\", johnson_lindenstrauss_min_dim(784,eps=0.15))"
      ],
      "metadata": {
        "colab": {
          "base_uri": "https://localhost:8080/"
        },
        "id": "g9BP_mJ1Iy_s",
        "outputId": "bc1b60b8-a236-4232-d8d8-0bef6e3fc7c5"
      },
      "execution_count": null,
      "outputs": [
        {
          "output_type": "stream",
          "name": "stdout",
          "text": [
            "Professors Johnson and Lindenstrauss say: k >= 2632\n"
          ]
        }
      ]
    },
    {
      "cell_type": "markdown",
      "source": [
        "## 3. Building the Neural Network Model with KMNIST data\n",
        "\n",
        "Used Neural network Algorithm with 1 Hidden layer and used relu activation Funtion."
      ],
      "metadata": {
        "id": "_vL4lDND9MrH"
      }
    },
    {
      "cell_type": "code",
      "source": [
        "import tensorflow as tf\n",
        "model = tf.keras.Sequential([\n",
        "    tf.keras.layers.Dense(512, activation='relu', input_shape=[784]),\n",
        "    tf.keras.layers.Dense(120, activation='relu'),\n",
        "\n",
        "    tf.keras.layers.Dense(10)\n",
        "])\n",
        "\n",
        "model.compile(optimizer='adam',\n",
        "              loss=tf.keras.losses.SparseCategoricalCrossentropy(from_logits=True),\n",
        "              metrics=['accuracy'])\n",
        "\n",
        "model.fit(X_train, y_train, epochs=5, verbose=0)\n",
        "\n",
        "test_loss, test_acc = model.evaluate(X_test,  y_test, verbose=0)\n",
        "print('\\nTest accuracy:', test_acc)\n"
      ],
      "metadata": {
        "id": "ORmQO1WyIi0e",
        "colab": {
          "base_uri": "https://localhost:8080/"
        },
        "outputId": "aa3670e7-0553-47a6-ce94-e8dce9db587d"
      },
      "execution_count": null,
      "outputs": [
        {
          "output_type": "stream",
          "name": "stdout",
          "text": [
            "\n",
            "Test accuracy: 0.8586000204086304\n"
          ]
        }
      ]
    },
    {
      "cell_type": "markdown",
      "source": [
        "##### Taking 20 different values of dimentions and creating the random Projection."
      ],
      "metadata": {
        "id": "aeB85m2Z9WYe"
      }
    },
    {
      "cell_type": "code",
      "source": [
        "# baseline = metrics.accuracy_score(model.predict(X_test), y_test)\n",
        "accuracies = []\n",
        "dims = np.int32(np.linspace(2, 784, 20))"
      ],
      "metadata": {
        "id": "AuAdDIBCGmxy"
      },
      "execution_count": null,
      "outputs": []
    },
    {
      "cell_type": "code",
      "source": [
        "dims"
      ],
      "metadata": {
        "colab": {
          "base_uri": "https://localhost:8080/"
        },
        "id": "K4B3mGs2nE02",
        "outputId": "379e2d61-1670-401b-f7e9-59aa6ebbadc8"
      },
      "execution_count": null,
      "outputs": [
        {
          "output_type": "execute_result",
          "data": {
            "text/plain": [
              "array([  2,  43,  84, 125, 166, 207, 248, 290, 331, 372, 413, 454, 495,\n",
              "       537, 578, 619, 660, 701, 742, 784], dtype=int32)"
            ]
          },
          "metadata": {},
          "execution_count": 19
        }
      ]
    },
    {
      "cell_type": "markdown",
      "source": [
        "### Applying the Sparse Random Projection "
      ],
      "metadata": {
        "id": "UUJgbhZS_Ihd"
      }
    },
    {
      "cell_type": "code",
      "execution_count": null,
      "metadata": {
        "id": "ywEVtMs-AYhx"
      },
      "outputs": [],
      "source": [
        "# dims = [10]\n",
        "# Loop over the projection sizes, k\n",
        "accuracies = []\n",
        "for dim in dims:\n",
        "    # Create random projection\n",
        "    sp = SparseRandomProjection(n_components = dim)\n",
        "    X = sp.fit_transform(X_train)\n",
        " \n",
        "    # Train classifier of your choice on the sparse random projection\n",
        "    model = tf.keras.Sequential([\n",
        "    tf.keras.layers.Dense(1000, activation='relu', input_shape=[dim]),\n",
        "    tf.keras.layers.Dense(800, activation='relu'),\n",
        "    tf.keras.layers.Dense(10)\n",
        "])\n",
        "\n",
        "    model.compile(optimizer='adam',\n",
        "              loss=tf.keras.losses.SparseCategoricalCrossentropy(from_logits=True),\n",
        "              metrics=['accuracy'])\n",
        "\n",
        "    model.fit(X, y_train, epochs=10, verbose=0)\n",
        "\n",
        "    X_test_1 = sp.transform(X_test)\n",
        "    test_loss, test_acc = model.evaluate(X_test_1,  y_test, verbose=0)\n",
        "    # model.fit(X, trainTarget)\n",
        " \n",
        "    # Evaluate model and update accuracies\n",
        "    # test = sp.transform(testData)\n",
        "    accuracies.append(test_acc)"
      ]
    },
    {
      "cell_type": "code",
      "source": [
        "X_test.shape"
      ],
      "metadata": {
        "colab": {
          "base_uri": "https://localhost:8080/"
        },
        "id": "Kh3DLjkrH_st",
        "outputId": "bfed0caa-12e9-4823-8d9a-bf69133e47f8"
      },
      "execution_count": null,
      "outputs": [
        {
          "output_type": "execute_result",
          "data": {
            "text/plain": [
              "(10000, 784)"
            ]
          },
          "metadata": {},
          "execution_count": 23
        }
      ]
    },
    {
      "cell_type": "markdown",
      "source": [
        "#### Accuracy vs Dimension Count for KMNIST"
      ],
      "metadata": {
        "id": "-kbUDng09nCP"
      }
    },
    {
      "cell_type": "code",
      "source": [
        "# Create figure\n",
        "plt.figure()\n",
        "plt.xlabel(\"# of dimensions k\")\n",
        "plt.ylabel(\"Accuracy\")\n",
        "plt.xlim([2, 784])\n",
        "plt.ylim([0, 1])\n",
        " \n",
        "# Plot baseline and random projection accuracies\n",
        "plt.plot(dims, [test_acc] * len(accuracies), color = \"r\")\n",
        "plt.plot(dims, accuracies)\n",
        "\n",
        "plt.show()"
      ],
      "metadata": {
        "colab": {
          "base_uri": "https://localhost:8080/",
          "height": 283
        },
        "id": "cwYiKyc2ICji",
        "outputId": "f73a28d0-64e9-4f7f-f572-30c5f78bddb7"
      },
      "execution_count": null,
      "outputs": [
        {
          "output_type": "display_data",
          "data": {
            "text/plain": [
              "<Figure size 432x288 with 1 Axes>"
            ],
            "image/png": "[encoded data removed]"
          },
          "metadata": {
            "needs_background": "light"
          }
        }
      ]
    },
    {
      "cell_type": "code",
      "execution_count": null,
      "metadata": {
        "id": "_s1sSgjiAYh1"
      },
      "outputs": [],
      "source": [
        "new_df = pd.DataFrame(columns=['Dims','accuracy'])\n",
        "new_df['Dims'] = dims\n",
        "new_df['accuracy'] = accuracies\n"
      ]
    },
    {
      "cell_type": "code",
      "source": [
        "new_df.sort_values('accuracy')"
      ],
      "metadata": {
        "colab": {
          "base_uri": "https://localhost:8080/",
          "height": 677
        },
        "id": "ZeiyjcIAwbKm",
        "outputId": "3d0a2e43-300c-4f60-a3fd-b2d333377e1e"
      },
      "execution_count": null,
      "outputs": [
        {
          "output_type": "execute_result",
          "data": {
            "text/plain": [
              "    Dims  accuracy\n",
              "0      2    0.1190\n",
              "1     43    0.7275\n",
              "2     84    0.8232\n",
              "3    125    0.8317\n",
              "10   413    0.8387\n",
              "9    372    0.8415\n",
              "13   537    0.8421\n",
              "11   454    0.8465\n",
              "6    248    0.8487\n",
              "17   701    0.8492\n",
              "5    207    0.8502\n",
              "4    166    0.8503\n",
              "16   660    0.8519\n",
              "19   784    0.8548\n",
              "12   495    0.8565\n",
              "15   619    0.8586\n",
              "7    290    0.8587\n",
              "8    331    0.8610\n",
              "14   578    0.8642\n",
              "18   742    0.8686"
            ],
            "text/html": [
              "\n",
              "  <div id=\"df-899e848f-e28f-4258-ba19-2b8a211591c4\">\n",
              "    <div class=\"colab-df-container\">\n",
              "      <div>\n",
              "<style scoped>\n",
              "    .dataframe tbody tr th:only-of-type {\n",
              "        vertical-align: middle;\n",
              "    }\n",
              "\n",
              "    .dataframe tbody tr th {\n",
              "        vertical-align: top;\n",
              "    }\n",
              "\n",
              "    .dataframe thead th {\n",
              "        text-align: right;\n",
              "    }\n",
              "</style>\n",
              "<table border=\"1\" class=\"dataframe\">\n",
              "  <thead>\n",
              "    <tr style=\"text-align: right;\">\n",
              "      <th></th>\n",
              "      <th>Dims</th>\n",
              "      <th>accuracy</th>\n",
              "    </tr>\n",
              "  </thead>\n",
              "  <tbody>\n",
              "    <tr>\n",
              "      <th>0</th>\n",
              "      <td>2</td>\n",
              "      <td>0.1190</td>\n",
              "    </tr>\n",
              "    <tr>\n",
              "      <th>1</th>\n",
              "      <td>43</td>\n",
              "      <td>0.7275</td>\n",
              "    </tr>\n",
              "    <tr>\n",
              "      <th>2</th>\n",
              "      <td>84</td>\n",
              "      <td>0.8232</td>\n",
              "    </tr>\n",
              "    <tr>\n",
              "      <th>3</th>\n",
              "      <td>125</td>\n",
              "      <td>0.8317</td>\n",
              "    </tr>\n",
              "    <tr>\n",
              "      <th>10</th>\n",
              "      <td>413</td>\n",
              "      <td>0.8387</td>\n",
              "    </tr>\n",
              "    <tr>\n",
              "      <th>9</th>\n",
              "      <td>372</td>\n",
              "      <td>0.8415</td>\n",
              "    </tr>\n",
              "    <tr>\n",
              "      <th>13</th>\n",
              "      <td>537</td>\n",
              "      <td>0.8421</td>\n",
              "    </tr>\n",
              "    <tr>\n",
              "      <th>11</th>\n",
              "      <td>454</td>\n",
              "      <td>0.8465</td>\n",
              "    </tr>\n",
              "    <tr>\n",
              "      <th>6</th>\n",
              "      <td>248</td>\n",
              "      <td>0.8487</td>\n",
              "    </tr>\n",
              "    <tr>\n",
              "      <th>17</th>\n",
              "      <td>701</td>\n",
              "      <td>0.8492</td>\n",
              "    </tr>\n",
              "    <tr>\n",
              "      <th>5</th>\n",
              "      <td>207</td>\n",
              "      <td>0.8502</td>\n",
              "    </tr>\n",
              "    <tr>\n",
              "      <th>4</th>\n",
              "      <td>166</td>\n",
              "      <td>0.8503</td>\n",
              "    </tr>\n",
              "    <tr>\n",
              "      <th>16</th>\n",
              "      <td>660</td>\n",
              "      <td>0.8519</td>\n",
              "    </tr>\n",
              "    <tr>\n",
              "      <th>19</th>\n",
              "      <td>784</td>\n",
              "      <td>0.8548</td>\n",
              "    </tr>\n",
              "    <tr>\n",
              "      <th>12</th>\n",
              "      <td>495</td>\n",
              "      <td>0.8565</td>\n",
              "    </tr>\n",
              "    <tr>\n",
              "      <th>15</th>\n",
              "      <td>619</td>\n",
              "      <td>0.8586</td>\n",
              "    </tr>\n",
              "    <tr>\n",
              "      <th>7</th>\n",
              "      <td>290</td>\n",
              "      <td>0.8587</td>\n",
              "    </tr>\n",
              "    <tr>\n",
              "      <th>8</th>\n",
              "      <td>331</td>\n",
              "      <td>0.8610</td>\n",
              "    </tr>\n",
              "    <tr>\n",
              "      <th>14</th>\n",
              "      <td>578</td>\n",
              "      <td>0.8642</td>\n",
              "    </tr>\n",
              "    <tr>\n",
              "      <th>18</th>\n",
              "      <td>742</td>\n",
              "      <td>0.8686</td>\n",
              "    </tr>\n",
              "  </tbody>\n",
              "</table>\n",
              "</div>\n",
              "      <button class=\"colab-df-convert\" onclick=\"convertToInteractive('df-899e848f-e28f-4258-ba19-2b8a211591c4')\"\n",
              "              title=\"Convert this dataframe to an interactive table.\"\n",
              "              style=\"display:none;\">\n",
              "        \n",
              "  <svg xmlns=\"http://www.w3.org/2000/svg\" height=\"24px\"viewBox=\"0 0 24 24\"\n",
              "       width=\"24px\">\n",
              "    <path d=\"M0 0h24v24H0V0z\" fill=\"none\"/>\n",
              "    <path d=\"M18.56 5.44l.94 2.06.94-2.06 2.06-.94-2.06-.94-.94-2.06-.94 2.06-2.06.94zm-11 1L8.5 8.5l.94-2.06 2.06-.94-2.06-.94L8.5 2.5l-.94 2.06-2.06.94zm10 10l.94 2.06.94-2.06 2.06-.94-2.06-.94-.94-2.06-.94 2.06-2.06.94z\"/><path d=\"M17.41 7.96l-1.37-1.37c-.4-.4-.92-.59-1.43-.59-.52 0-1.04.2-1.43.59L10.3 9.45l-7.72 7.72c-.78.78-.78 2.05 0 2.83L4 21.41c.39.39.9.59 1.41.59.51 0 1.02-.2 1.41-.59l7.78-7.78 2.81-2.81c.8-.78.8-2.07 0-2.86zM5.41 20L4 18.59l7.72-7.72 1.47 1.35L5.41 20z\"/>\n",
              "  </svg>\n",
              "      </button>\n",
              "      \n",
              "  <style>\n",
              "    .colab-df-container {\n",
              "      display:flex;\n",
              "      flex-wrap:wrap;\n",
              "      gap: 12px;\n",
              "    }\n",
              "\n",
              "    .colab-df-convert {\n",
              "      background-color: #E8F0FE;\n",
              "      border: none;\n",
              "      border-radius: 50%;\n",
              "      cursor: pointer;\n",
              "      display: none;\n",
              "      fill: #1967D2;\n",
              "      height: 32px;\n",
              "      padding: 0 0 0 0;\n",
              "      width: 32px;\n",
              "    }\n",
              "\n",
              "    .colab-df-convert:hover {\n",
              "      background-color: #E2EBFA;\n",
              "      box-shadow: 0px 1px 2px rgba(60, 64, 67, 0.3), 0px 1px 3px 1px rgba(60, 64, 67, 0.15);\n",
              "      fill: #174EA6;\n",
              "    }\n",
              "\n",
              "    [theme=dark] .colab-df-convert {\n",
              "      background-color: #3B4455;\n",
              "      fill: #D2E3FC;\n",
              "    }\n",
              "\n",
              "    [theme=dark] .colab-df-convert:hover {\n",
              "      background-color: #434B5C;\n",
              "      box-shadow: 0px 1px 3px 1px rgba(0, 0, 0, 0.15);\n",
              "      filter: drop-shadow(0px 1px 2px rgba(0, 0, 0, 0.3));\n",
              "      fill: #FFFFFF;\n",
              "    }\n",
              "  </style>\n",
              "\n",
              "      <script>\n",
              "        const buttonEl =\n",
              "          document.querySelector('#df-899e848f-e28f-4258-ba19-2b8a211591c4 button.colab-df-convert');\n",
              "        buttonEl.style.display =\n",
              "          google.colab.kernel.accessAllowed ? 'block' : 'none';\n",
              "\n",
              "        async function convertToInteractive(key) {\n",
              "          const element = document.querySelector('#df-899e848f-e28f-4258-ba19-2b8a211591c4');\n",
              "          const dataTable =\n",
              "            await google.colab.kernel.invokeFunction('convertToInteractive',\n",
              "                                                     [key], {});\n",
              "          if (!dataTable) return;\n",
              "\n",
              "          const docLinkHtml = 'Like what you see? Visit the ' +\n",
              "            '<a target=\"_blank\" href=https://colab.research.google.com/notebooks/data_table.ipynb>data table notebook</a>'\n",
              "            + ' to learn more about interactive tables.';\n",
              "          element.innerHTML = '';\n",
              "          dataTable['output_type'] = 'display_data';\n",
              "          await google.colab.output.renderOutput(dataTable, element);\n",
              "          const docLink = document.createElement('div');\n",
              "          docLink.innerHTML = docLinkHtml;\n",
              "          element.appendChild(docLink);\n",
              "        }\n",
              "      </script>\n",
              "    </div>\n",
              "  </div>\n",
              "  "
            ]
          },
          "metadata": {},
          "execution_count": 33
        }
      ]
    },
    {
      "cell_type": "markdown",
      "source": [
        "### KMNIST Accuracy Analysis: \n",
        "Initially, we designed the Neural network with all the features and have seen an accuracy of ~85%. So, we have tried Sparse Random projection where we increased the dimensions length from lower to the max of 784 and we can see from the above graph and table that approximately for the feature count around 300 we stimulate the same accuracy \n"
      ],
      "metadata": {
        "id": "CqnbMILSbwZT"
      }
    },
    {
      "cell_type": "markdown",
      "source": [
        "# 4. Second Dataset : Fashion MNIST\n",
        "\n",
        "We have taken the Fashion MNIST datset and performed similar analysis.\n",
        "- Fashion-MNIST is a dataset of Zalando's article images—consisting of a training set of 60,000 examples and a test set of 10,000 examples. Each example is a 28x28 grayscale image, associated with a label from 10 classes. We intend Fashion-MNIST to serve as a direct drop-in replacement for the original MNIST dataset for benchmarking machine learning algorithms. It shares the same image size and structure of training and testing splits."
      ],
      "metadata": {
        "id": "R98kYm72ytc_"
      }
    },
    {
      "cell_type": "markdown",
      "source": [
        "### 4.1 loading the Dataset "
      ],
      "metadata": {
        "id": "mKpFOYCa9_7d"
      }
    },
    {
      "cell_type": "code",
      "source": [
        "fashion_mnist = tf.keras.datasets.fashion_mnist\n",
        "\n",
        "(train_images, train_labels), (test_images, test_labels) = fashion_mnist.load_data()"
      ],
      "metadata": {
        "colab": {
          "base_uri": "https://localhost:8080/"
        },
        "id": "8dg80-6HMxuU",
        "outputId": "96574d0f-37d4-43bb-b6aa-58476be81769"
      },
      "execution_count": null,
      "outputs": [
        {
          "output_type": "stream",
          "name": "stdout",
          "text": [
            "Downloading data from https://storage.googleapis.com/tensorflow/tf-keras-datasets/train-labels-idx1-ubyte.gz\n",
            "32768/29515 [=================================] - 0s 0us/step\n",
            "40960/29515 [=========================================] - 0s 0us/step\n",
            "Downloading data from https://storage.googleapis.com/tensorflow/tf-keras-datasets/train-images-idx3-ubyte.gz\n",
            "26427392/26421880 [==============================] - 0s 0us/step\n",
            "26435584/26421880 [==============================] - 0s 0us/step\n",
            "Downloading data from https://storage.googleapis.com/tensorflow/tf-keras-datasets/t10k-labels-idx1-ubyte.gz\n",
            "16384/5148 [===============================================================================================] - 0s 0us/step\n",
            "Downloading data from https://storage.googleapis.com/tensorflow/tf-keras-datasets/t10k-images-idx3-ubyte.gz\n",
            "4423680/4422102 [==============================] - 0s 0us/step\n",
            "4431872/4422102 [==============================] - 0s 0us/step\n"
          ]
        }
      ]
    },
    {
      "cell_type": "code",
      "source": [
        "# Creating list to capture all the class names \n",
        "class_names = ['T-shirt/top', 'Trouser', 'Pullover', 'Dress', 'Coat',\n",
        "               'Sandal', 'Shirt', 'Sneaker', 'Bag', 'Ankle boot']"
      ],
      "metadata": {
        "id": "cEmGB4R9Mxo7"
      },
      "execution_count": null,
      "outputs": []
    },
    {
      "cell_type": "code",
      "source": [
        "# Flattening the 3D images to the 2D\n",
        "train_images = train_images.flatten().reshape(60000, 784)\n",
        "test_images = test_images.flatten().reshape(10000, 784)"
      ],
      "metadata": {
        "id": "wWfWtIDiMxeK"
      },
      "execution_count": null,
      "outputs": []
    },
    {
      "cell_type": "markdown",
      "source": [
        "## 5. Building the Neural Network Model with Fashion MNIST data"
      ],
      "metadata": {
        "id": "vHOoiVxv-Itn"
      }
    },
    {
      "cell_type": "code",
      "source": [
        "# Printing the Test Accuracy for the Baseline model\n",
        "test_acc"
      ],
      "metadata": {
        "colab": {
          "base_uri": "https://localhost:8080/"
        },
        "id": "4VnENUg54jBF",
        "outputId": "7943df12-e195-4c97-cd60-95e38c61bf1c"
      },
      "execution_count": null,
      "outputs": [
        {
          "output_type": "execute_result",
          "data": {
            "text/plain": [
              "0.8460000157356262"
            ]
          },
          "metadata": {},
          "execution_count": 25
        }
      ]
    },
    {
      "cell_type": "code",
      "source": [
        "dims = np.concatenate((np.int32(np.linspace(2, 100, 15)), np.int32(np.linspace(100, 784, 10))))\n",
        "\n",
        "# Loop over the projection sizes, k\n",
        "accuracies_1 = []\n",
        "for dim in dims:\n",
        "    # Create random projection\n",
        "    sp = SparseRandomProjection(n_components = dim)\n",
        "    X = sp.fit_transform(train_images)\n",
        " \n",
        "    # Train classifier of your choice on the sparse random projection\n",
        "    model = tf.keras.Sequential([\n",
        "    tf.keras.layers.Dense(512, activation='relu', input_shape=[dim]),\n",
        "    tf.keras.layers.Dense(128, activation='relu'),\n",
        "    tf.keras.layers.Dense(10)\n",
        "])\n",
        "\n",
        "    model.compile(optimizer='adam',\n",
        "              loss=tf.keras.losses.SparseCategoricalCrossentropy(from_logits=True),\n",
        "              metrics=['accuracy'])\n",
        "\n",
        "    model.fit(X, train_labels, epochs=10, verbose=0)\n",
        "\n",
        "    X_test = sp.transform(test_images)\n",
        "    test_loss, test_acc = model.evaluate(X_test,  test_labels, verbose=0)\n",
        " \n",
        "    # Evaluate model and update accuracies\n",
        "    accuracies_1.append(test_acc)"
      ],
      "metadata": {
        "id": "SvvxV90KMxYC"
      },
      "execution_count": null,
      "outputs": []
    },
    {
      "cell_type": "code",
      "source": [
        "# Printing the accuracies \n",
        "accuracies_1 "
      ],
      "metadata": {
        "colab": {
          "base_uri": "https://localhost:8080/"
        },
        "id": "8xzMD0uxQ0An",
        "outputId": "9dff028b-095f-4d09-dcc7-c06b8a1f5aa2"
      },
      "execution_count": null,
      "outputs": [
        {
          "output_type": "execute_result",
          "data": {
            "text/plain": [
              "[0.10000000149011612,\n",
              " 0.6193000078201294,\n",
              " 0.7305999994277954,\n",
              " 0.7824000120162964,\n",
              " 0.795199990272522,\n",
              " 0.8087999820709229,\n",
              " 0.8116000294685364,\n",
              " 0.8246999979019165,\n",
              " 0.8125,\n",
              " 0.8312000036239624,\n",
              " 0.829800009727478,\n",
              " 0.8348000049591064,\n",
              " 0.830299973487854,\n",
              " 0.8485999703407288,\n",
              " 0.8418999910354614,\n",
              " 0.8323000073432922,\n",
              " 0.8489999771118164,\n",
              " 0.8375999927520752,\n",
              " 0.859000027179718,\n",
              " 0.854200005531311,\n",
              " 0.8536999821662903,\n",
              " 0.8637999892234802,\n",
              " 0.8603000044822693,\n",
              " 0.8492000102996826,\n",
              " 0.8460000157356262]"
            ]
          },
          "metadata": {},
          "execution_count": 26
        }
      ]
    },
    {
      "cell_type": "markdown",
      "source": [
        "#### Accuracy vs Dimension Count for Fashion MNIST"
      ],
      "metadata": {
        "id": "Mf9dfVAM-dnH"
      }
    },
    {
      "cell_type": "code",
      "source": [
        "# Create figure\n",
        "plt.figure()\n",
        "plt.xlabel(\"# of dimensions k\")\n",
        "plt.ylabel(\"Accuracy\")\n",
        "plt.xlim([2, 784])\n",
        "plt.ylim([0, 1])\n",
        " \n",
        "# Plot baseline and random projection accuracies_1\n",
        "plt.plot(dims, [test_acc] * len(accuracies_1), color = \"r\")\n",
        "plt.plot(dims, accuracies_1)\n",
        "\n",
        "plt.show()"
      ],
      "metadata": {
        "colab": {
          "base_uri": "https://localhost:8080/",
          "height": 283
        },
        "id": "kA1iJogvMxG_",
        "outputId": "5442b7d8-135b-4ac1-bfff-978484918c32"
      },
      "execution_count": null,
      "outputs": [
        {
          "output_type": "display_data",
          "data": {
            "text/plain": [
              "<Figure size 432x288 with 1 Axes>"
            ],
            "image/png": "[encoded data removed]"
          },
          "metadata": {
            "needs_background": "light"
          }
        }
      ]
    },
    {
      "cell_type": "code",
      "source": [
        "new_df_2 = pd.DataFrame(columns=['Dims','accuracy'])\n",
        "new_df_2['Dims'] = dims\n",
        "new_df_2['accuracy'] = accuracies_1\n"
      ],
      "metadata": {
        "id": "MsY63L4ne0KS"
      },
      "execution_count": null,
      "outputs": []
    },
    {
      "cell_type": "code",
      "source": [
        "new_df_2.sort_values('accuracy')"
      ],
      "metadata": {
        "colab": {
          "base_uri": "https://localhost:8080/",
          "height": 833
        },
        "id": "W_PmfmQSe8Eg",
        "outputId": "bd5156d0-9b3c-47fd-bf1a-1068023afcf4"
      },
      "execution_count": null,
      "outputs": [
        {
          "output_type": "execute_result",
          "data": {
            "text/plain": [
              "    Dims  accuracy\n",
              "0      2    0.1000\n",
              "1      9    0.6193\n",
              "2     16    0.7306\n",
              "3     23    0.7824\n",
              "4     30    0.7952\n",
              "5     37    0.8088\n",
              "6     44    0.8116\n",
              "8     58    0.8125\n",
              "7     51    0.8247\n",
              "10    72    0.8298\n",
              "12    86    0.8303\n",
              "9     65    0.8312\n",
              "15   100    0.8323\n",
              "11    79    0.8348\n",
              "17   252    0.8376\n",
              "14   100    0.8419\n",
              "24   784    0.8460\n",
              "13    93    0.8486\n",
              "16   176    0.8490\n",
              "23   708    0.8492\n",
              "20   480    0.8537\n",
              "19   404    0.8542\n",
              "18   328    0.8590\n",
              "22   632    0.8603\n",
              "21   556    0.8638"
            ],
            "text/html": [
              "\n",
              "  <div id=\"df-9d959d59-7be1-4459-bb77-4a397bea8b13\">\n",
              "    <div class=\"colab-df-container\">\n",
              "      <div>\n",
              "<style scoped>\n",
              "    .dataframe tbody tr th:only-of-type {\n",
              "        vertical-align: middle;\n",
              "    }\n",
              "\n",
              "    .dataframe tbody tr th {\n",
              "        vertical-align: top;\n",
              "    }\n",
              "\n",
              "    .dataframe thead th {\n",
              "        text-align: right;\n",
              "    }\n",
              "</style>\n",
              "<table border=\"1\" class=\"dataframe\">\n",
              "  <thead>\n",
              "    <tr style=\"text-align: right;\">\n",
              "      <th></th>\n",
              "      <th>Dims</th>\n",
              "      <th>accuracy</th>\n",
              "    </tr>\n",
              "  </thead>\n",
              "  <tbody>\n",
              "    <tr>\n",
              "      <th>0</th>\n",
              "      <td>2</td>\n",
              "      <td>0.1000</td>\n",
              "    </tr>\n",
              "    <tr>\n",
              "      <th>1</th>\n",
              "      <td>9</td>\n",
              "      <td>0.6193</td>\n",
              "    </tr>\n",
              "    <tr>\n",
              "      <th>2</th>\n",
              "      <td>16</td>\n",
              "      <td>0.7306</td>\n",
              "    </tr>\n",
              "    <tr>\n",
              "      <th>3</th>\n",
              "      <td>23</td>\n",
              "      <td>0.7824</td>\n",
              "    </tr>\n",
              "    <tr>\n",
              "      <th>4</th>\n",
              "      <td>30</td>\n",
              "      <td>0.7952</td>\n",
              "    </tr>\n",
              "    <tr>\n",
              "      <th>5</th>\n",
              "      <td>37</td>\n",
              "      <td>0.8088</td>\n",
              "    </tr>\n",
              "    <tr>\n",
              "      <th>6</th>\n",
              "      <td>44</td>\n",
              "      <td>0.8116</td>\n",
              "    </tr>\n",
              "    <tr>\n",
              "      <th>8</th>\n",
              "      <td>58</td>\n",
              "      <td>0.8125</td>\n",
              "    </tr>\n",
              "    <tr>\n",
              "      <th>7</th>\n",
              "      <td>51</td>\n",
              "      <td>0.8247</td>\n",
              "    </tr>\n",
              "    <tr>\n",
              "      <th>10</th>\n",
              "      <td>72</td>\n",
              "      <td>0.8298</td>\n",
              "    </tr>\n",
              "    <tr>\n",
              "      <th>12</th>\n",
              "      <td>86</td>\n",
              "      <td>0.8303</td>\n",
              "    </tr>\n",
              "    <tr>\n",
              "      <th>9</th>\n",
              "      <td>65</td>\n",
              "      <td>0.8312</td>\n",
              "    </tr>\n",
              "    <tr>\n",
              "      <th>15</th>\n",
              "      <td>100</td>\n",
              "      <td>0.8323</td>\n",
              "    </tr>\n",
              "    <tr>\n",
              "      <th>11</th>\n",
              "      <td>79</td>\n",
              "      <td>0.8348</td>\n",
              "    </tr>\n",
              "    <tr>\n",
              "      <th>17</th>\n",
              "      <td>252</td>\n",
              "      <td>0.8376</td>\n",
              "    </tr>\n",
              "    <tr>\n",
              "      <th>14</th>\n",
              "      <td>100</td>\n",
              "      <td>0.8419</td>\n",
              "    </tr>\n",
              "    <tr>\n",
              "      <th>24</th>\n",
              "      <td>784</td>\n",
              "      <td>0.8460</td>\n",
              "    </tr>\n",
              "    <tr>\n",
              "      <th>13</th>\n",
              "      <td>93</td>\n",
              "      <td>0.8486</td>\n",
              "    </tr>\n",
              "    <tr>\n",
              "      <th>16</th>\n",
              "      <td>176</td>\n",
              "      <td>0.8490</td>\n",
              "    </tr>\n",
              "    <tr>\n",
              "      <th>23</th>\n",
              "      <td>708</td>\n",
              "      <td>0.8492</td>\n",
              "    </tr>\n",
              "    <tr>\n",
              "      <th>20</th>\n",
              "      <td>480</td>\n",
              "      <td>0.8537</td>\n",
              "    </tr>\n",
              "    <tr>\n",
              "      <th>19</th>\n",
              "      <td>404</td>\n",
              "      <td>0.8542</td>\n",
              "    </tr>\n",
              "    <tr>\n",
              "      <th>18</th>\n",
              "      <td>328</td>\n",
              "      <td>0.8590</td>\n",
              "    </tr>\n",
              "    <tr>\n",
              "      <th>22</th>\n",
              "      <td>632</td>\n",
              "      <td>0.8603</td>\n",
              "    </tr>\n",
              "    <tr>\n",
              "      <th>21</th>\n",
              "      <td>556</td>\n",
              "      <td>0.8638</td>\n",
              "    </tr>\n",
              "  </tbody>\n",
              "</table>\n",
              "</div>\n",
              "      <button class=\"colab-df-convert\" onclick=\"convertToInteractive('df-9d959d59-7be1-4459-bb77-4a397bea8b13')\"\n",
              "              title=\"Convert this dataframe to an interactive table.\"\n",
              "              style=\"display:none;\">\n",
              "        \n",
              "  <svg xmlns=\"http://www.w3.org/2000/svg\" height=\"24px\"viewBox=\"0 0 24 24\"\n",
              "       width=\"24px\">\n",
              "    <path d=\"M0 0h24v24H0V0z\" fill=\"none\"/>\n",
              "    <path d=\"M18.56 5.44l.94 2.06.94-2.06 2.06-.94-2.06-.94-.94-2.06-.94 2.06-2.06.94zm-11 1L8.5 8.5l.94-2.06 2.06-.94-2.06-.94L8.5 2.5l-.94 2.06-2.06.94zm10 10l.94 2.06.94-2.06 2.06-.94-2.06-.94-.94-2.06-.94 2.06-2.06.94z\"/><path d=\"M17.41 7.96l-1.37-1.37c-.4-.4-.92-.59-1.43-.59-.52 0-1.04.2-1.43.59L10.3 9.45l-7.72 7.72c-.78.78-.78 2.05 0 2.83L4 21.41c.39.39.9.59 1.41.59.51 0 1.02-.2 1.41-.59l7.78-7.78 2.81-2.81c.8-.78.8-2.07 0-2.86zM5.41 20L4 18.59l7.72-7.72 1.47 1.35L5.41 20z\"/>\n",
              "  </svg>\n",
              "      </button>\n",
              "      \n",
              "  <style>\n",
              "    .colab-df-container {\n",
              "      display:flex;\n",
              "      flex-wrap:wrap;\n",
              "      gap: 12px;\n",
              "    }\n",
              "\n",
              "    .colab-df-convert {\n",
              "      background-color: #E8F0FE;\n",
              "      border: none;\n",
              "      border-radius: 50%;\n",
              "      cursor: pointer;\n",
              "      display: none;\n",
              "      fill: #1967D2;\n",
              "      height: 32px;\n",
              "      padding: 0 0 0 0;\n",
              "      width: 32px;\n",
              "    }\n",
              "\n",
              "    .colab-df-convert:hover {\n",
              "      background-color: #E2EBFA;\n",
              "      box-shadow: 0px 1px 2px rgba(60, 64, 67, 0.3), 0px 1px 3px 1px rgba(60, 64, 67, 0.15);\n",
              "      fill: #174EA6;\n",
              "    }\n",
              "\n",
              "    [theme=dark] .colab-df-convert {\n",
              "      background-color: #3B4455;\n",
              "      fill: #D2E3FC;\n",
              "    }\n",
              "\n",
              "    [theme=dark] .colab-df-convert:hover {\n",
              "      background-color: #434B5C;\n",
              "      box-shadow: 0px 1px 3px 1px rgba(0, 0, 0, 0.15);\n",
              "      filter: drop-shadow(0px 1px 2px rgba(0, 0, 0, 0.3));\n",
              "      fill: #FFFFFF;\n",
              "    }\n",
              "  </style>\n",
              "\n",
              "      <script>\n",
              "        const buttonEl =\n",
              "          document.querySelector('#df-9d959d59-7be1-4459-bb77-4a397bea8b13 button.colab-df-convert');\n",
              "        buttonEl.style.display =\n",
              "          google.colab.kernel.accessAllowed ? 'block' : 'none';\n",
              "\n",
              "        async function convertToInteractive(key) {\n",
              "          const element = document.querySelector('#df-9d959d59-7be1-4459-bb77-4a397bea8b13');\n",
              "          const dataTable =\n",
              "            await google.colab.kernel.invokeFunction('convertToInteractive',\n",
              "                                                     [key], {});\n",
              "          if (!dataTable) return;\n",
              "\n",
              "          const docLinkHtml = 'Like what you see? Visit the ' +\n",
              "            '<a target=\"_blank\" href=https://colab.research.google.com/notebooks/data_table.ipynb>data table notebook</a>'\n",
              "            + ' to learn more about interactive tables.';\n",
              "          element.innerHTML = '';\n",
              "          dataTable['output_type'] = 'display_data';\n",
              "          await google.colab.output.renderOutput(dataTable, element);\n",
              "          const docLink = document.createElement('div');\n",
              "          docLink.innerHTML = docLinkHtml;\n",
              "          element.appendChild(docLink);\n",
              "        }\n",
              "      </script>\n",
              "    </div>\n",
              "  </div>\n",
              "  "
            ]
          },
          "metadata": {},
          "execution_count": 28
        }
      ]
    },
    {
      "cell_type": "markdown",
      "source": [
        "### Accuracy Analysis:\n",
        "As KMNIST dataset analysis, we can see the similar pattern with the Fashion MNIST. Although the datasets are coompletely different like the content in the images the dimensions are maintained the same. AS observed above graph it can be inferred that with Random Projections at a dimention of close to 200 we are able to get the similar accuracy as the baseline model (model where we use all the festures.) "
      ],
      "metadata": {
        "id": "OjQ9o6AgeF1E"
      }
    },
    {
      "cell_type": "markdown",
      "source": [
        "## 6. Observations and Summary "
      ],
      "metadata": {
        "id": "r2nmmnkq_vrG"
      }
    },
    {
      "cell_type": "markdown",
      "source": [
        "--- Question 3\n",
        "\n",
        "*Based on the program developed in the lecture (SparseRandomProjec-\n",
        "tions), analyze 2 databases of your choice (but not exactly the same digits\n",
        "data as in the lecture) using random projections.\n",
        "\n",
        "Study the accuracy (or a score of your choice that makes most sense for\n",
        "your data) as a function of the number of dimensions / features that\n",
        "survived the random projection.\n",
        "\n",
        "Try to avoid a zick-zack curve below or around the baseline accuracy curve\n",
        "as your final result for both datasets. At least for one dataset the score\n",
        "is expected to be a smooth-ish curve as a function of the kept number of\n",
        "features. Provide a take-home statement and explain every step.\n",
        "\n",
        "You will find that data that is embedded in Eukledian spaces (such as\n",
        "digits) may be more appropriate than data for which Eukledian distances\n",
        "are not an excellent distance measure.*\n",
        "\n",
        "--- End of the Question \n",
        "\n",
        "1. *Step by step explanation:*\n",
        "    - *Load the datasets: fashionMNIST and KMNIST, shape=MxN (M = number of samples, N = number of dimensions / features)*\n",
        "    - *Create train and test datasets using train_test_split*\n",
        "    - *Create “dims” - list of smaller dimensions (Di) to test the accuracy (Di < M)*\n",
        "    - *Create X,Y from by fit_transform “SparseRandomProjection” to train and test datasets, result is dataframe NxDi*\n",
        "        - *How SparseRandomProjection algorithm works?*\n",
        "            1. *Take dataset K: dimension MxN (M=samples, N=original dimension/features).*\n",
        "            2. *Initialize a random 2D matrix R of size NxD where D=new reduced dimension.*\n",
        "            3. *Normalize the columns of R making them unit length vectors.*\n",
        "            4. *Matrix multiplication J=KxR. J is the final output with dimension MxD.*\n",
        "    - *Initialize the setup for the classification model*\n",
        "    - *Fit the model on Xi, Yi*\n",
        "    - *Create a list of model accuracies for each of the dimensions Di in “dims”*\n",
        "2. *Take-home message:*\n",
        "    - *Random Projections should be used when we have a **huge number of features** (eg. >40) and hence need a speed boost up. PCA will still be the better option in lower dimension datasets.*\n",
        "    - *Random Projection works best when we reduce a high dimension space to ‘medium’ dimensional space. Accuracy will be very bad when D chosen is very small (eg. < 30) when N is very high (eg. 1000). However the closer D gets to N, accuracies does not increase much.*\n",
        "    - ***Robust to outliers.*** Random Project is better than PCA as it is robust to outliers, which lead to higher accuracy and explanation power. This is very important in high-dimension datasets.\n",
        "    - ***Very Fast.** Time complexity = 𝑂(𝑛𝑘𝑑) where k,d are original dimension & reduce dimension respectively with k>d. However, PCA on a matrix of size n×k, takes 𝑂(𝑘²×𝑛+𝑘³) time. If k is huge, PCA becomes very slow and inefficient.*"
      ],
      "metadata": {
        "id": "POda9Uiw1Yr7"
      }
    }
  ],
  "metadata": {
    "kernelspec": {
      "display_name": "Python 3 (ipykernel)",
      "language": "python",
      "name": "python3"
    },
    "language_info": {
      "codemirror_mode": {
        "name": "ipython",
        "version": 3
      },
      "file_extension": ".py",
      "mimetype": "text/x-python",
      "name": "python",
      "nbconvert_exporter": "python",
      "pygments_lexer": "ipython3",
      "version": "3.8.8"
    },
    "colab": {
      "name": "Random_Projections_Q3.ipynb",
      "provenance": [],
      "collapsed_sections": [],
      "include_colab_link": true
    },
    "accelerator": "GPU"
  },
  "nbformat": 4,
  "nbformat_minor": 0
}